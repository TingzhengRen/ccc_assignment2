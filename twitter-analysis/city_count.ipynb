{
 "cells": [
  {
   "cell_type": "code",
   "execution_count": 3,
   "metadata": {},
   "outputs": [],
   "source": [
    "import json\n",
    "\n",
    "keywords = ['employ', 'job', 'career', 'internship', 'salary', 'workplace', 'resume', 'interview', 'recruitment', 'position', 'part-time', 'full-time', 'training',\n",
    "            'market', 'cv', 'labor', 'benefit', 'promotion']\n",
    "\n",
    "with open('city_text.json', 'r') as f:\n",
    "    data = json.load(f)\n",
    "city_count = {}\n",
    "\n",
    "for tweet in data:\n",
    "    if any(keyword in tweet['text'] for keyword in keywords):\n",
    "        city = tweet['city']\n",
    "        if 'victoria' in city.lower():\n",
    "            if city in city_count:\n",
    "                city_count[city] += 1\n",
    "            else:\n",
    "                city_count[city] = 1\n",
    "\n",
    "formatted_count = [{'full_name': k, 'count': v} for k, v in city_count.items()]\n",
    "\n",
    "with open(\"city_count.json\", \"w\") as f:\n",
    "    json.dump(formatted_count, f)\n"
   ]
  },
  {
   "cell_type": "code",
   "execution_count": 4,
   "metadata": {},
   "outputs": [],
   "source": [
    "import json\n",
    "vic_all = []\n",
    "with open('city_text.json', 'r') as f:\n",
    "    data = json.load(f)\n",
    "for tweet in data:\n",
    "    city = tweet['city']\n",
    "    if 'victoria' in city.lower():\n",
    "        vic_all.append({'city': city, 'text': tweet['text']})\n",
    "\n",
    "with open(\"vic_all.json\", \"w\") as f:\n",
    "    json.dump(vic_all, f)"
   ]
  },
  {
   "cell_type": "code",
   "execution_count": 6,
   "metadata": {},
   "outputs": [],
   "source": [
    "import json\n",
    "\n",
    "with open('vic_all.json', 'r') as f:\n",
    "    data = json.load(f)\n",
    "city_count = {}\n",
    "\n",
    "for tweet in data:\n",
    "    city = tweet['city']\n",
    "    if city in city_count:\n",
    "        city_count[city] += 1\n",
    "    else:\n",
    "        city_count[city] = 1\n",
    "\n",
    "formatted_count = [{'full_name': k, 'count': v} for k, v in city_count.items()]\n",
    "\n",
    "with open(\"vic_count.json\", \"w\") as f:\n",
    "    json.dump(formatted_count, f)"
   ]
  }
 ],
 "metadata": {
  "kernelspec": {
   "display_name": "Python 3",
   "language": "python",
   "name": "python3"
  },
  "language_info": {
   "codemirror_mode": {
    "name": "ipython",
    "version": 3
   },
   "file_extension": ".py",
   "mimetype": "text/x-python",
   "name": "python",
   "nbconvert_exporter": "python",
   "pygments_lexer": "ipython3",
   "version": "3.11.2"
  },
  "orig_nbformat": 4
 },
 "nbformat": 4,
 "nbformat_minor": 2
}
